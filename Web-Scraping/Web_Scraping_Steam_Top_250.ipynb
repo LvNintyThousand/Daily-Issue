{
 "cells": [
  {
   "cell_type": "markdown",
   "metadata": {},
   "source": [
    "# Steam TOP 250 Game Web-Scraping"
   ]
  },
  {
   "cell_type": "markdown",
   "metadata": {},
   "source": [
    "In this kernel, I will attempt to web-scrape video games in steam platform,which is a world-class video game digital distribution service by Valve."
   ]
  },
  {
   "cell_type": "markdown",
   "metadata": {},
   "source": [
    "### 1. Import Libraries\n",
    "we first import the necessary modules:\n",
    "   1. request\n",
    "   2. pandas\n",
    "   3. re\n",
    "   4. BeautifulSoup from bs4\n",
    "   5. Thread from threading\n",
    "   6. sleep from time"
   ]
  },
  {
   "cell_type": "code",
   "execution_count": 16,
   "metadata": {},
   "outputs": [],
   "source": [
    "import requests\n",
    "import pandas as pd\n",
    "import re\n",
    "from bs4 import BeautifulSoup"
   ]
  },
  {
   "cell_type": "markdown",
   "metadata": {},
   "source": [
    "### 2. Create self-definition function get_text(url)\n",
    "next, we need to retrieve the text information from the URL by using request module. In order to avoid unnecessary error information interrupt our process, we use 'try & exception' to continue our coding. "
   ]
  },
  {
   "cell_type": "code",
   "execution_count": 2,
   "metadata": {},
   "outputs": [],
   "source": [
    "def get_text(url):\n",
    "    try:\n",
    "        headers = {\n",
    "            \"User-Agent\": 'Mozilla/5.0 (Windows NT 10.0; Win64; x64) AppleWebKit/537.36 (KHTML, like Gecko) '\n",
    "                          'Chrome/85.0.4183.102 Safari/537.36', 'Accept-Language': 'en-US '\n",
    "        }\n",
    "        r = requests.get(url, headers=headers)\n",
    "        r.raise_for_status()\n",
    "        r.encoding = r.apparent_encoding\n",
    "        return r.text\n",
    "    except:\n",
    "        return \"Webscraping Fails！\""
   ]
  },
  {
   "cell_type": "markdown",
   "metadata": {},
   "source": [
    "### 3. initialize lists for dataframe creation\n",
    "Then we create empty dictionary and lists for dataframe which we will use for analysis afterwards. In this section, we focus on several factors shown below:\n",
    "   1. Game Name\n",
    "   2. Game Release Date\n",
    "   3. Game Genre\n",
    "   4. Game Price\n",
    "   5. Score\n",
    "   6. Rating\n",
    "   7. Votes"
   ]
  },
  {
   "cell_type": "code",
   "execution_count": 3,
   "metadata": {},
   "outputs": [],
   "source": [
    "game_info = dict()\n",
    "num = 1\n",
    "name = []\n",
    "date = []\n",
    "genre = []\n",
    "price = []\n",
    "score = []\n",
    "rating = []\n",
    "votes = []"
   ]
  },
  {
   "cell_type": "markdown",
   "metadata": {},
   "source": [
    "### 3. confirm the link\n",
    "After that, we need to confirm the link of our data collection: https://steam250.com/top250."
   ]
  },
  {
   "cell_type": "code",
   "execution_count": 4,
   "metadata": {},
   "outputs": [],
   "source": [
    "link = \"https://steam250.com/top250\""
   ]
  },
  {
   "cell_type": "markdown",
   "metadata": {},
   "source": [
    "### 4. create self-definition function to get text information of target URL for further use\n",
    "When we initialize the empty lists and dictionary for further use, we need to use BeautifulSoup function from bs4 module to get text info of the link."
   ]
  },
  {
   "cell_type": "code",
   "execution_count": 5,
   "metadata": {},
   "outputs": [],
   "source": [
    "text = get_text(link)\n",
    "soup = BeautifulSoup(text, \"html.parser\")\n",
    "text_info = soup.find_all('div', id = num)"
   ]
  },
  {
   "cell_type": "markdown",
   "metadata": {},
   "source": [
    "### 5. create self-definition function to append information from web-scraping method into related list\n",
    "After we get the text information of the link, we need to use find & find_all functions to append information into our lists."
   ]
  },
  {
   "cell_type": "code",
   "execution_count": 6,
   "metadata": {},
   "outputs": [],
   "source": [
    "def enrich_name(): \n",
    "    for a in text_info:\n",
    "        b = a.find_all('span', class_= 'title')\n",
    "        for x in b:\n",
    "            name.append(x.find('a').text)\n",
    "    return name"
   ]
  },
  {
   "cell_type": "code",
   "execution_count": 7,
   "metadata": {},
   "outputs": [],
   "source": [
    "def enrich_date(): \n",
    "    for a in text_info:\n",
    "        if a.find_all('span', class_= 'date') == []:\n",
    "            b = None\n",
    "        else:\n",
    "            b = a.find_all('span', class_= 'date')\n",
    "        if b != None:\n",
    "             for c in b:\n",
    "                date.append(c.find('a').text[1 : -1].replace(' ', '-'))\n",
    "        else:\n",
    "            date.append(b)\n",
    "    return date"
   ]
  },
  {
   "cell_type": "code",
   "execution_count": 8,
   "metadata": {},
   "outputs": [],
   "source": [
    "def enrich_genre(): \n",
    "    for a in text_info:\n",
    "        b = a.find_all('a', class_= 'genre')\n",
    "        for x in b:\n",
    "            genre.append(x.text)\n",
    "    return genre"
   ]
  },
  {
   "cell_type": "code",
   "execution_count": 9,
   "metadata": {},
   "outputs": [],
   "source": [
    "def enrich_price(): \n",
    "    for a in text_info:\n",
    "        if a.find_all('a', class_= 'free') == []:\n",
    "            b = a.find_all('span', class_= 'price')\n",
    "        else:\n",
    "            b = '$0.00' \n",
    "        if b != '$0.00':\n",
    "             for c in b:\n",
    "                price.append(c.text[1: ])\n",
    "        else:\n",
    "            price.append(b[1: ])\n",
    "    return price"
   ]
  },
  {
   "cell_type": "code",
   "execution_count": 10,
   "metadata": {},
   "outputs": [],
   "source": [
    "def enrich_score(): \n",
    "    for a in text_info:\n",
    "        b = a.find_all('span', class_= 'score')\n",
    "        for x in b:\n",
    "            score.append(x.text)\n",
    "    return score\n",
    "    sleep(0.5)"
   ]
  },
  {
   "cell_type": "code",
   "execution_count": 11,
   "metadata": {},
   "outputs": [],
   "source": [
    "def enrich_rating(): \n",
    "    for a in text_info:\n",
    "        b = a.find_all('span', class_= 'rating')\n",
    "        for x in b:\n",
    "            if x.text == '100%':\n",
    "                rating.append('1')\n",
    "            else:    \n",
    "                rating.append('0.' + x.text[ : -1])\n",
    "    return rating"
   ]
  },
  {
   "cell_type": "code",
   "execution_count": 12,
   "metadata": {},
   "outputs": [],
   "source": [
    "def enrich_votes(): \n",
    "    for a in text_info:\n",
    "        b = a.find_all('span', class_= 'votes')\n",
    "        for x in b:\n",
    "            votes.append(x.text[ : -6].replace(',', ''))\n",
    "    return votes"
   ]
  },
  {
   "cell_type": "markdown",
   "metadata": {},
   "source": [
    "### 6. Iterate and append info into our list \n",
    "since we have 250 records about related games, we use iteration to repeat the methods or functions that we create before to continuously append information into our lists until the end."
   ]
  },
  {
   "cell_type": "code",
   "execution_count": 14,
   "metadata": {},
   "outputs": [
    {
     "name": "stderr",
     "output_type": "stream",
     "text": [
      "Exception in thread Thread-13:\n",
      "Traceback (most recent call last):\n",
      "  File \"D:\\Anaconda\\lib\\threading.py\", line 932, in _bootstrap_inner\n",
      "Exception in thread Thread-14:\n",
      "Traceback (most recent call last):\n",
      "  File \"D:\\Anaconda\\lib\\threading.py\", line 932, in _bootstrap_inner\n",
      "    Exception in thread Thread-15:\n",
      "Traceback (most recent call last):\n",
      "self.run()\n",
      "  File \"D:\\Anaconda\\lib\\threading.py\", line 870, in run\n",
      "Exception in thread Thread-16:\n",
      "Traceback (most recent call last):\n",
      "  File \"D:\\Anaconda\\lib\\threading.py\", line 932, in _bootstrap_inner\n",
      "    self._target(*self._args, **self._kwargs)\n",
      "TypeError: 'list' object is not callable  File \"D:\\Anaconda\\lib\\threading.py\", line 932, in _bootstrap_inner\n",
      "\n",
      "Exception in thread Thread-17:\n",
      "Traceback (most recent call last):\n",
      "  File \"D:\\Anaconda\\lib\\threading.py\", line 932, in _bootstrap_inner\n",
      "    self.run()\n",
      "  File \"D:\\Anaconda\\lib\\threading.py\", line 870, in run\n",
      "    self._target(*self._args, **self._kwargs)\n",
      "TypeError: 'list' object is not callable\n",
      "    self.run()\n",
      "  File \"D:\\Anaconda\\lib\\threading.py\", line 870, in run\n",
      "Exception in thread Thread-18:\n",
      "Traceback (most recent call last):\n",
      "  File \"D:\\Anaconda\\lib\\threading.py\", line 932, in _bootstrap_inner\n",
      "Exception in thread         self.run()\n",
      "  File \"D:\\Anaconda\\lib\\threading.py\", line 870, in run\n",
      "    self.run()\n",
      "  File \"D:\\Anaconda\\lib\\threading.py\", line 870, in run\n",
      "self.run()\n",
      "  File \"D:\\Anaconda\\lib\\threading.py\", line 870, in run\n",
      "    Thread-19:\n",
      "Traceback (most recent call last):\n",
      "  File \"D:\\Anaconda\\lib\\threading.py\", line 932, in _bootstrap_inner\n",
      "self._target(*self._args, **self._kwargs)\n",
      "TypeError: 'list' object is not callable\n",
      "        self._target(*self._args, **self._kwargs)\n",
      "TypeError    self._target(*self._args, **self._kwargs): self._target(*self._args, **self._kwargs)\n",
      "TypeError: 'list' object is not callable\n",
      "'list' object is not callable\n",
      "\n",
      "TypeError: 'list' object is not callable\n",
      "    self.run()\n",
      "  File \"D:\\Anaconda\\lib\\threading.py\", line 870, in run\n",
      "    self._target(*self._args, **self._kwargs)\n",
      "TypeError: 'list' object is not callable\n"
     ]
    },
    {
     "ename": "RuntimeError",
     "evalue": "threads can only be started once",
     "output_type": "error",
     "traceback": [
      "\u001b[1;31m---------------------------------------------------------------------------\u001b[0m",
      "\u001b[1;31mRuntimeError\u001b[0m                              Traceback (most recent call last)",
      "\u001b[1;32m<ipython-input-14-29d60503c7cd>\u001b[0m in \u001b[0;36m<module>\u001b[1;34m\u001b[0m\n\u001b[0;32m     19\u001b[0m \u001b[1;33m\u001b[0m\u001b[0m\n\u001b[0;32m     20\u001b[0m \u001b[1;32mif\u001b[0m \u001b[0m__name__\u001b[0m \u001b[1;33m==\u001b[0m \u001b[1;34m'__main__'\u001b[0m\u001b[1;33m:\u001b[0m\u001b[1;33m\u001b[0m\u001b[1;33m\u001b[0m\u001b[0m\n\u001b[1;32m---> 21\u001b[1;33m     \u001b[0mmain\u001b[0m\u001b[1;33m(\u001b[0m\u001b[1;33m)\u001b[0m\u001b[1;33m\u001b[0m\u001b[1;33m\u001b[0m\u001b[0m\n\u001b[0m",
      "\u001b[1;32m<ipython-input-14-29d60503c7cd>\u001b[0m in \u001b[0;36mmain\u001b[1;34m()\u001b[0m\n\u001b[0;32m      9\u001b[0m     \u001b[0mt7\u001b[0m \u001b[1;33m=\u001b[0m \u001b[0mThread\u001b[0m\u001b[1;33m(\u001b[0m\u001b[0mtarget\u001b[0m \u001b[1;33m=\u001b[0m \u001b[0menrich_votes\u001b[0m\u001b[1;33m(\u001b[0m\u001b[1;33m)\u001b[0m\u001b[1;33m)\u001b[0m\u001b[1;33m\u001b[0m\u001b[1;33m\u001b[0m\u001b[0m\n\u001b[0;32m     10\u001b[0m     \u001b[1;32mwhile\u001b[0m \u001b[0mnum\u001b[0m \u001b[1;33m<=\u001b[0m \u001b[1;36m250\u001b[0m\u001b[1;33m:\u001b[0m\u001b[1;33m\u001b[0m\u001b[1;33m\u001b[0m\u001b[0m\n\u001b[1;32m---> 11\u001b[1;33m         \u001b[0mt1\u001b[0m\u001b[1;33m.\u001b[0m\u001b[0mstart\u001b[0m\u001b[1;33m(\u001b[0m\u001b[1;33m)\u001b[0m\u001b[1;33m\u001b[0m\u001b[1;33m\u001b[0m\u001b[0m\n\u001b[0m\u001b[0;32m     12\u001b[0m         \u001b[0mt2\u001b[0m\u001b[1;33m.\u001b[0m\u001b[0mstart\u001b[0m\u001b[1;33m(\u001b[0m\u001b[1;33m)\u001b[0m\u001b[1;33m\u001b[0m\u001b[1;33m\u001b[0m\u001b[0m\n\u001b[0;32m     13\u001b[0m         \u001b[0mt3\u001b[0m\u001b[1;33m.\u001b[0m\u001b[0mstart\u001b[0m\u001b[1;33m(\u001b[0m\u001b[1;33m)\u001b[0m\u001b[1;33m\u001b[0m\u001b[1;33m\u001b[0m\u001b[0m\n",
      "\u001b[1;32mD:\\Anaconda\\lib\\threading.py\u001b[0m in \u001b[0;36mstart\u001b[1;34m(self)\u001b[0m\n\u001b[0;32m    846\u001b[0m \u001b[1;33m\u001b[0m\u001b[0m\n\u001b[0;32m    847\u001b[0m         \u001b[1;32mif\u001b[0m \u001b[0mself\u001b[0m\u001b[1;33m.\u001b[0m\u001b[0m_started\u001b[0m\u001b[1;33m.\u001b[0m\u001b[0mis_set\u001b[0m\u001b[1;33m(\u001b[0m\u001b[1;33m)\u001b[0m\u001b[1;33m:\u001b[0m\u001b[1;33m\u001b[0m\u001b[1;33m\u001b[0m\u001b[0m\n\u001b[1;32m--> 848\u001b[1;33m             \u001b[1;32mraise\u001b[0m \u001b[0mRuntimeError\u001b[0m\u001b[1;33m(\u001b[0m\u001b[1;34m\"threads can only be started once\"\u001b[0m\u001b[1;33m)\u001b[0m\u001b[1;33m\u001b[0m\u001b[1;33m\u001b[0m\u001b[0m\n\u001b[0m\u001b[0;32m    849\u001b[0m         \u001b[1;32mwith\u001b[0m \u001b[0m_active_limbo_lock\u001b[0m\u001b[1;33m:\u001b[0m\u001b[1;33m\u001b[0m\u001b[1;33m\u001b[0m\u001b[0m\n\u001b[0;32m    850\u001b[0m             \u001b[0m_limbo\u001b[0m\u001b[1;33m[\u001b[0m\u001b[0mself\u001b[0m\u001b[1;33m]\u001b[0m \u001b[1;33m=\u001b[0m \u001b[0mself\u001b[0m\u001b[1;33m\u001b[0m\u001b[1;33m\u001b[0m\u001b[0m\n",
      "\u001b[1;31mRuntimeError\u001b[0m: threads can only be started once"
     ]
    }
   ],
   "source": [
    "while num <= 250:\n",
    "    text_info = get_name_text(link)\n",
    "    enrich_name()\n",
    "    enrich_date()\n",
    "    enrich_genre()\n",
    "    enrich_price()\n",
    "    enrich_score()\n",
    "    enrich_rating()\n",
    "    enrich_votes()\n",
    "    num += 1"
   ]
  },
  {
   "cell_type": "markdown",
   "metadata": {},
   "source": [
    "### 7. Append the information of the lists into our dictionary.\n",
    "Remember the empty dictionary that we create before? Now we should append the collected and sorted data into our dictionary."
   ]
  },
  {
   "cell_type": "code",
   "execution_count": null,
   "metadata": {},
   "outputs": [],
   "source": [
    "game_info = {\n",
    "    'Name': name,\n",
    "    'Release_Date': date,\n",
    "    'Genre': genre,\n",
    "    'Price(USD)': price,\n",
    "    'Score': score,\n",
    "    'Rating': rating,\n",
    "    'Votes': votes\n",
    "}"
   ]
  },
  {
   "cell_type": "markdown",
   "metadata": {},
   "source": [
    "### 8. Convert the dictionary into the dataframe for further analysis\n",
    "For the convenience of our analysis afterwards, we need to convert the dictionary into the dataframe."
   ]
  },
  {
   "cell_type": "code",
   "execution_count": null,
   "metadata": {},
   "outputs": [],
   "source": [
    "try:\n",
    "    df = pd.DataFrame(game_info, columns=['Name', 'Release_Date', 'Genre', 'Price(USD)', 'Score', 'Rating', 'Votes'])\n",
    "    df.index += 1\n",
    "    print(\"Congratulations! The dataframe has been successfully created！\")\n",
    "except:\n",
    "    print(\"ERROR! The process has been interrupted, please check your code!\")"
   ]
  },
  {
   "cell_type": "markdown",
   "metadata": {},
   "source": [
    "### 9. Have a glimpse of the dataframe\n",
    "We can have a glance at the dataframe by using .head() method in pandas module; or we can use set_option('display.max_rows', None) to browse all the rows."
   ]
  },
  {
   "cell_type": "code",
   "execution_count": null,
   "metadata": {},
   "outputs": [],
   "source": [
    "df.head(5)"
   ]
  },
  {
   "cell_type": "code",
   "execution_count": null,
   "metadata": {},
   "outputs": [],
   "source": [
    "pd.set_option('display.max_rows', None)\n",
    "df"
   ]
  },
  {
   "cell_type": "markdown",
   "metadata": {},
   "source": [
    "### 10. Find null values in our dataset\n",
    "Before we start the formal analysis, let's find and filter the null values in our dataset in case of unexpected situation otherwises."
   ]
  },
  {
   "cell_type": "code",
   "execution_count": null,
   "metadata": {},
   "outputs": [],
   "source": [
    "df.isnull().value_counts()"
   ]
  },
  {
   "cell_type": "markdown",
   "metadata": {},
   "source": [
    "We find that, in the column \"Release_Date\", there're two null values; except this column, we don't find any other column which include null values.\n",
    "\n",
    "Therefore, let's find out the specific records of these two null values."
   ]
  },
  {
   "cell_type": "code",
   "execution_count": null,
   "metadata": {},
   "outputs": [],
   "source": [
    "df[df['Release_Date'].isnull() == True]"
   ]
  },
  {
   "cell_type": "markdown",
   "metadata": {},
   "source": [
    "And here they are: Don't Starve and Mark of the Ninja. Since we find that except the release date, all the other records in these two games are filled with correct information. Therefore, we search for the release dates for these two games on Google:\n",
    "\n",
    "   1. Don't Starve: Apr 2013\n",
    "   2. Mark of the Ninja: Sep 2012"
   ]
  },
  {
   "cell_type": "code",
   "execution_count": null,
   "metadata": {},
   "outputs": [],
   "source": [
    "df.loc[44, 'Release_Date'] = 'Apr-2013'\n",
    "df.loc[117, 'Release_Date'] = 'Sep-2012'"
   ]
  },
  {
   "cell_type": "markdown",
   "metadata": {},
   "source": [
    "Now let's check whether our correction is effective:"
   ]
  },
  {
   "cell_type": "code",
   "execution_count": null,
   "metadata": {},
   "outputs": [],
   "source": [
    "df.loc[44, 'Release_Date']"
   ]
  },
  {
   "cell_type": "code",
   "execution_count": null,
   "metadata": {},
   "outputs": [],
   "source": [
    "df.loc[44, 'Release_Date']"
   ]
  },
  {
   "cell_type": "code",
   "execution_count": null,
   "metadata": {},
   "outputs": [],
   "source": [
    "df.isnull().value_counts()"
   ]
  },
  {
   "cell_type": "markdown",
   "metadata": {},
   "source": [
    "Then we find that in row 21 (Totally Accurate Battle Simulator), the record of Release_Date is \"3-days\"; Then we need to convert that into the correct format that we want."
   ]
  },
  {
   "cell_type": "code",
   "execution_count": null,
   "metadata": {},
   "outputs": [],
   "source": [
    "df_original.loc[21]"
   ]
  },
  {
   "cell_type": "markdown",
   "metadata": {},
   "source": [
    "In my current time (4/4/2021), it should be 4/1/2021... Fool's Day for this game's release, what a genius the publisher is!"
   ]
  },
  {
   "cell_type": "code",
   "execution_count": null,
   "metadata": {},
   "outputs": [],
   "source": [
    "df_original.loc[21, 'Release_Date'] = 'Apr-2021'\n",
    "df_original.loc[21, 'Release_Date']"
   ]
  },
  {
   "cell_type": "markdown",
   "metadata": {},
   "source": [
    "### 11. Re-format our data \n",
    "Although we get the required data for our exploratory data analysis, we haven't confirm that our data are correctly formatted. Therefore, we need to check the format of our data grouped by the columns and change them into the appropriate formats."
   ]
  },
  {
   "cell_type": "code",
   "execution_count": null,
   "metadata": {},
   "outputs": [],
   "source": [
    "df.dtypes"
   ]
  },
  {
   "cell_type": "markdown",
   "metadata": {},
   "source": [
    "Object... That's not something that we want in our analysis. Next, we need to change their formats! \n",
    "\n",
    "   1. Name: String\n",
    "   2. Release_Date: Datetime\n",
    "   3. Genre: String\n",
    "   4. Price(USD): Float\n",
    "   5. Score: Float\n",
    "   6. Rating: Float\n",
    "   7. Votes: Integer\n",
    "\n",
    "But first, we copy our original dataframe as our backup, just in case."
   ]
  },
  {
   "cell_type": "code",
   "execution_count": null,
   "metadata": {},
   "outputs": [],
   "source": [
    "df_original = df.copy()"
   ]
  },
  {
   "cell_type": "markdown",
   "metadata": {},
   "source": [
    "Now let's change the formats!"
   ]
  },
  {
   "cell_type": "code",
   "execution_count": null,
   "metadata": {},
   "outputs": [],
   "source": [
    "df['Name'] = df['Name'].astype('str')\n",
    "df['Release_Date'] =  pd.to_datetime(df['Release_Date'], errors = 'coerce', format = '%b-%Y').dt.to_period('M')\n",
    "df['Genre'] = df['Genre'].astype('str')\n",
    "df['Price(USD)'] = df['Price(USD)'].astype('float')\n",
    "df['Score'] = df['Score'].astype('float')\n",
    "df['Rating'] = df['Rating'].astype('float')\n",
    "df['Votes'] = df['Votes'].astype('int')"
   ]
  },
  {
   "cell_type": "markdown",
   "metadata": {},
   "source": [
    "Now let's look at the data types again:"
   ]
  },
  {
   "cell_type": "code",
   "execution_count": null,
   "metadata": {},
   "outputs": [],
   "source": [
    "df.dtypes"
   ]
  },
  {
   "cell_type": "code",
   "execution_count": null,
   "metadata": {
    "scrolled": false
   },
   "outputs": [],
   "source": [
    "pd.set_option('display.max_rows', None)\n",
    "df"
   ]
  },
  {
   "cell_type": "code",
   "execution_count": null,
   "metadata": {},
   "outputs": [],
   "source": []
  }
 ],
 "metadata": {
  "kernelspec": {
   "display_name": "Python 3",
   "language": "python",
   "name": "python3"
  },
  "language_info": {
   "codemirror_mode": {
    "name": "ipython",
    "version": 3
   },
   "file_extension": ".py",
   "mimetype": "text/x-python",
   "name": "python",
   "nbconvert_exporter": "python",
   "pygments_lexer": "ipython3",
   "version": "3.8.5"
  }
 },
 "nbformat": 4,
 "nbformat_minor": 4
}
